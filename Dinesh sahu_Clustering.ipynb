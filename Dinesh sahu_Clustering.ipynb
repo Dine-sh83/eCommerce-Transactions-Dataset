{
 "cells": [
  {
   "cell_type": "markdown",
   "id": "491b1f1d-2716-4aaa-ae35-f03aca3bd152",
   "metadata": {},
   "source": [
    "Import Important libraries"
   ]
  },
  {
   "cell_type": "code",
   "execution_count": 1,
   "id": "e81cc967-9dc2-489c-9af8-80f6d266036b",
   "metadata": {},
   "outputs": [],
   "source": [
    "import pandas as pd\n",
    "from sklearn.preprocessing import StandardScaler\n",
    "from sklearn.cluster import KMeans\n",
    "from sklearn.metrics import davies_bouldin_score\n",
    "from sklearn.decomposition import PCA\n",
    "import matplotlib.pyplot as pt\n",
    "import seaborn as sn"
   ]
  },
  {
   "cell_type": "markdown",
   "id": "aaec59b8-b5eb-4e15-a734-6e3a1dc9131d",
   "metadata": {},
   "source": [
    "Load datasets"
   ]
  },
  {
   "cell_type": "code",
   "execution_count": 2,
   "id": "ddc13189-0287-4fbd-94c9-af461ab35708",
   "metadata": {},
   "outputs": [],
   "source": [
    "customers = pd.read_csv('Customers.csv')\n",
    "transactions = pd.read_csv('Transactions.csv')\n",
    "products = pd.read_csv('Products.csv')"
   ]
  },
  {
   "cell_type": "markdown",
   "id": "1c8dada4-738b-45e2-8513-d852bdf63306",
   "metadata": {},
   "source": [
    "Merge datasets to create customer profiles with transaction history"
   ]
  },
  {
   "cell_type": "code",
   "execution_count": 3,
   "id": "0b088c7b-21ae-452a-98f5-91201f57d3ac",
   "metadata": {},
   "outputs": [
    {
     "name": "stdout",
     "output_type": "stream",
     "text": [
      "    TransactionID CustomerID ProductID      TransactionDate  Quantity  \\\n",
      "0          T00001      C0199      P067  2024-08-25 12:38:23         1   \n",
      "1          T00112      C0146      P067  2024-05-27 22:23:54         1   \n",
      "2          T00166      C0127      P067  2024-04-25 07:38:55         1   \n",
      "3          T00272      C0087      P067  2024-03-26 22:55:37         2   \n",
      "4          T00363      C0070      P067  2024-03-21 15:10:10         3   \n",
      "..            ...        ...       ...                  ...       ...   \n",
      "995        T00630      C0031      P093  2024-10-08 23:58:14         2   \n",
      "996        T00672      C0165      P044  2024-07-28 00:09:49         4   \n",
      "997        T00711      C0165      P044  2024-06-11 15:51:14         4   \n",
      "998        T00878      C0165      P044  2024-09-24 21:15:21         3   \n",
      "999        T00157      C0169      P044  2024-11-09 09:07:36         2   \n",
      "\n",
      "     TotalValue  Price_x     CustomerName         Region  SignupDate  \\\n",
      "0        300.68   300.68   Andrea Jenkins         Europe  2022-12-03   \n",
      "1        300.68   300.68  Brittany Harvey           Asia  2024-09-04   \n",
      "2        300.68   300.68  Kathryn Stevens         Europe  2024-04-04   \n",
      "3        601.36   300.68  Travis Campbell  South America  2024-04-11   \n",
      "4        902.04   300.68    Timothy Perez         Europe  2022-03-15   \n",
      "..          ...      ...              ...            ...         ...   \n",
      "995      609.88   304.94      Tina Miller  South America  2024-04-11   \n",
      "996       75.28    18.82    Juan Mcdaniel  South America  2022-04-09   \n",
      "997       75.28    18.82    Juan Mcdaniel  South America  2022-04-09   \n",
      "998       56.46    18.82    Juan Mcdaniel  South America  2022-04-09   \n",
      "999       37.64    18.82    Jennifer Shaw  South America  2023-04-13   \n",
      "\n",
      "                         ProductName     Category  Price_y  \n",
      "0    ComfortLiving Bluetooth Speaker  Electronics   300.68  \n",
      "1    ComfortLiving Bluetooth Speaker  Electronics   300.68  \n",
      "2    ComfortLiving Bluetooth Speaker  Electronics   300.68  \n",
      "3    ComfortLiving Bluetooth Speaker  Electronics   300.68  \n",
      "4    ComfortLiving Bluetooth Speaker  Electronics   300.68  \n",
      "..                               ...          ...      ...  \n",
      "995                     TechPro Vase   Home Decor   304.94  \n",
      "996         ActiveWear Running Shoes     Clothing    18.82  \n",
      "997         ActiveWear Running Shoes     Clothing    18.82  \n",
      "998         ActiveWear Running Shoes     Clothing    18.82  \n",
      "999         ActiveWear Running Shoes     Clothing    18.82  \n",
      "\n",
      "[1000 rows x 13 columns]\n"
     ]
    }
   ],
   "source": [
    "customer_transactions = transactions.merge(customers, on=\"CustomerID\").merge(products, on=\"ProductID\")\n",
    "print(customer_transactions)"
   ]
  },
  {
   "cell_type": "markdown",
   "id": "16f268b5-d35f-4734-809a-59ce08b4bc83",
   "metadata": {},
   "source": [
    "Aggregate data to create customer-level profiles"
   ]
  },
  {
   "cell_type": "code",
   "execution_count": 4,
   "id": "929f2f52-9933-4f19-8cb9-8c0243a528f9",
   "metadata": {},
   "outputs": [
    {
     "name": "stdout",
     "output_type": "stream",
     "text": [
      "    CustomerID  TotalValue  Quantity  TransactionID  ProductID\n",
      "0        C0001     3354.52        12              5          5\n",
      "1        C0002     1862.74        10              4          4\n",
      "2        C0003     2725.38        14              4          4\n",
      "3        C0004     5354.88        23              8          8\n",
      "4        C0005     2034.24         7              3          3\n",
      "..         ...         ...       ...            ...        ...\n",
      "194      C0196     4982.88        12              4          3\n",
      "195      C0197     1928.65         9              3          3\n",
      "196      C0198      931.83         3              2          2\n",
      "197      C0199     1979.28         9              4          4\n",
      "198      C0200     4758.60        16              5          5\n",
      "\n",
      "[199 rows x 5 columns]\n"
     ]
    }
   ],
   "source": [
    "customer_profiles = customer_transactions.groupby('CustomerID').agg({\n",
    "    'TotalValue': 'sum',       # Total revenue generated by the customer\n",
    "    'Quantity': 'sum',         # Total quantity purchased by the customer\n",
    "    'TransactionID': 'count',  # Number of transactions made\n",
    "    'ProductID': 'nunique',    # Number of unique products purchased\n",
    "}).reset_index()\n",
    "print(customer_profiles)"
   ]
  },
  {
   "cell_type": "markdown",
   "id": "9de04892-405a-4dbc-a10d-b173384d3d83",
   "metadata": {},
   "source": [
    "Prepare data for clustering (exclude CustomerID for clustering)"
   ]
  },
  {
   "cell_type": "code",
   "execution_count": 5,
   "id": "bf6fe481-c3e5-4fc3-bf2c-f677284102d5",
   "metadata": {},
   "outputs": [
    {
     "name": "stdout",
     "output_type": "stream",
     "text": [
      "     TotalValue  Quantity  TransactionID  ProductID\n",
      "0       3354.52        12              5          5\n",
      "1       1862.74        10              4          4\n",
      "2       2725.38        14              4          4\n",
      "3       5354.88        23              8          8\n",
      "4       2034.24         7              3          3\n",
      "..          ...       ...            ...        ...\n",
      "194     4982.88        12              4          3\n",
      "195     1928.65         9              3          3\n",
      "196      931.83         3              2          2\n",
      "197     1979.28         9              4          4\n",
      "198     4758.60        16              5          5\n",
      "\n",
      "[199 rows x 4 columns]\n"
     ]
    }
   ],
   "source": [
    "features = customer_profiles.drop(columns=['CustomerID'])\n",
    "print(features)"
   ]
  },
  {
   "cell_type": "markdown",
   "id": "769ef8f9-bb38-43fc-abe6-508055fd9c1c",
   "metadata": {},
   "source": [
    "Normalize features"
   ]
  },
  {
   "cell_type": "code",
   "execution_count": 6,
   "id": "510d5901-6b47-4566-9d75-fbb6fda946da",
   "metadata": {},
   "outputs": [
    {
     "name": "stdout",
     "output_type": "stream",
     "text": [
      "[[-0.06170143 -0.12203296 -0.01145819  0.05004655]\n",
      " [-0.87774353 -0.44800021 -0.46749414 -0.42420409]\n",
      " [-0.40585722  0.20393428 -0.46749414 -0.42420409]\n",
      " [ 1.03254704  1.67078689  1.35664965  1.47279848]\n",
      " [-0.78392861 -0.93695108 -0.92353008 -0.89845473]\n",
      " [ 0.41587942 -0.12203296 -0.46749414 -0.42420409]\n",
      " [-0.48548229 -0.77396745 -0.92353008 -0.89845473]\n",
      " [ 0.43997044  1.18183602  2.26872154  2.42129976]\n",
      " [-1.40630171 -1.58888557 -0.92353008 -0.89845473]\n",
      " [-0.9571662  -0.12203296 -0.46749414 -0.42420409]\n",
      " [ 0.14369581  0.04095066 -0.01145819  0.05004655]\n",
      " [ 0.96492372  1.0188524   0.9006137   0.52429719]\n",
      " [ 1.38575064  0.85586877  0.9006137   0.99854783]\n",
      " [-1.72239508 -1.75186919 -1.83560198 -1.84695602]\n",
      " [-1.26353893 -1.42590195 -1.37956603 -1.37270538]\n",
      " [ 0.22269727 -0.44800021 -0.01145819  0.05004655]\n",
      " [ 0.70375173  1.34481964  1.35664965  1.47279848]\n",
      " [ 0.71908486  0.85586877 -0.01145819  0.05004655]\n",
      " [-0.70101045 -0.28501659  0.44457776  0.52429719]\n",
      " [-1.39212827 -1.58888557 -1.83560198 -1.84695602]\n",
      " [ 1.0681256   0.69288515  1.35664965  1.47279848]\n",
      " [ 0.64973294  0.3669179   0.44457776  0.52429719]\n",
      " [ 0.92520418  0.20393428  0.44457776  0.52429719]\n",
      " [ 0.08736309  0.20393428  0.9006137   0.99854783]\n",
      " [-1.02704328 -0.77396745 -0.46749414 -0.42420409]\n",
      " [ 0.04471149 -0.12203296 -0.46749414 -0.42420409]\n",
      " [-0.49471609 -0.12203296 -0.46749414 -0.42420409]\n",
      " [ 1.83377022  1.83377051  1.35664965  0.52429719]\n",
      " [-0.9197934  -0.44800021 -0.46749414 -0.42420409]\n",
      " [-0.50196965  0.04095066 -0.01145819  0.05004655]\n",
      " [-0.79971578 -0.44800021 -0.46749414 -0.42420409]\n",
      " [-1.52856197 -1.26291832 -0.92353008 -0.89845473]\n",
      " [-1.82415282 -1.75186919 -1.83560198 -1.84695602]\n",
      " [-0.21559072  0.69288515  0.44457776  0.52429719]\n",
      " [-0.48122096 -0.44800021 -0.46749414 -0.42420409]\n",
      " [-0.8694178  -0.77396745 -0.92353008 -0.89845473]\n",
      " [ 0.42966447  0.20393428 -0.01145819  0.05004655]\n",
      " [-0.42146387  0.04095066 -0.01145819  0.05004655]\n",
      " [ 0.42246014  0.85586877  0.44457776  0.52429719]\n",
      " [ 0.27465378 -0.44800021 -0.92353008 -1.37270538]\n",
      " [ 1.46737783  1.67078689  0.9006137   0.99854783]\n",
      " [-0.58248637 -1.0999347  -0.92353008 -0.89845473]\n",
      " [-1.27784912 -1.0999347  -0.92353008 -0.89845473]\n",
      " [-0.1297569  -0.93695108 -0.92353008 -0.89845473]\n",
      " [ 1.39736947  1.67078689  0.9006137   0.99854783]\n",
      " [ 1.18185773  1.0188524   0.9006137   0.99854783]\n",
      " [-0.32645096  0.04095066  0.9006137   0.99854783]\n",
      " [ 0.2098531  -0.12203296 -0.01145819  0.05004655]\n",
      " [-0.63008308  0.69288515  1.35664965  1.47279848]\n",
      " [-0.21798122 -0.77396745 -0.92353008 -0.89845473]\n",
      " [ 1.22110135  0.52990153  0.9006137   0.99854783]\n",
      " [-0.53570473 -0.44800021 -0.46749414 -0.89845473]\n",
      " [ 1.01153031  0.85586877  0.44457776  0.52429719]\n",
      " [ 2.50159022  1.83377051  1.35664965  1.47279848]\n",
      " [-0.33348571 -0.12203296 -0.01145819  0.05004655]\n",
      " [-0.15556011 -0.12203296 -0.01145819  0.05004655]\n",
      " [ 0.58481739  0.52990153  0.44457776  0.52429719]\n",
      " [-1.67990212 -1.91485281 -1.83560198 -1.84695602]\n",
      " [ 1.97255613  1.34481964  1.35664965  1.47279848]\n",
      " [-1.85165727 -1.75186919 -1.83560198 -1.84695602]\n",
      " [-0.72702699 -1.0999347  -0.92353008 -0.89845473]\n",
      " [-0.99983968 -0.77396745 -0.92353008 -1.37270538]\n",
      " [-1.14281581 -1.26291832 -1.37956603 -1.37270538]\n",
      " [ 0.31314798  0.04095066 -0.01145819  0.05004655]\n",
      " [ 2.29553108  2.32272138  2.26872154  2.42129976]\n",
      " [ 0.18159375 -0.61098383 -0.92353008 -0.89845473]\n",
      " [ 0.34108459  0.20393428  0.44457776  0.52429719]\n",
      " [ 1.35832277  1.50780326  1.35664965  1.47279848]\n",
      " [-0.3219927  -0.44800021 -0.01145819  0.05004655]\n",
      " [-0.18698674 -0.12203296 -0.46749414 -0.42420409]\n",
      " [-1.13042021 -0.93695108 -0.92353008 -0.89845473]\n",
      " [-0.25585728  0.04095066 -0.01145819  0.05004655]\n",
      " [-0.76954183 -0.44800021 -0.92353008 -0.89845473]\n",
      " [-0.22542624 -0.77396745 -0.92353008 -0.89845473]\n",
      " [ 1.302827    2.485705    1.8126856   1.94704912]\n",
      " [-0.62046637 -0.28501659 -0.01145819  0.05004655]\n",
      " [-1.43868564 -0.93695108 -0.92353008 -0.89845473]\n",
      " [-1.35213522 -1.75186919 -1.83560198 -1.84695602]\n",
      " [ 0.42900257 -0.12203296 -0.46749414 -0.42420409]\n",
      " [-1.34557091 -1.58888557 -1.83560198 -1.84695602]\n",
      " [ 0.04111754  0.20393428  0.44457776  0.52429719]\n",
      " [ 2.24586661  1.67078689  0.9006137   0.99854783]\n",
      " [-1.54508215 -1.42590195 -0.92353008 -0.89845473]\n",
      " [ 0.53268583  1.18183602  1.8126856   1.47279848]\n",
      " [-0.47535685 -0.93695108 -0.92353008 -0.89845473]\n",
      " [-0.38982937  0.04095066 -0.01145819  0.05004655]\n",
      " [ 1.71597369  1.50780326  0.9006137   0.99854783]\n",
      " [-0.72860243 -0.44800021 -0.01145819  0.05004655]\n",
      " [-0.4983921  -0.93695108 -1.37956603 -1.37270538]\n",
      " [ 0.36696985  0.52990153  0.9006137   0.99854783]\n",
      " [-0.18032944  1.18183602  0.44457776  0.05004655]\n",
      " [-0.24690794 -0.44800021 -0.46749414 -0.89845473]\n",
      " [ 0.99978567  1.0188524   1.8126856   1.47279848]\n",
      " [-1.25834765 -0.61098383 -0.46749414 -0.42420409]\n",
      " [-1.19418153 -1.26291832 -1.37956603 -1.37270538]\n",
      " [ 1.42533343  0.52990153 -0.01145819  0.05004655]\n",
      " [-1.82147239 -1.91485281 -1.83560198 -1.84695602]\n",
      " [-0.16919199  0.20393428  1.35664965  1.47279848]\n",
      " [ 1.77696159  1.34481964  1.35664965  1.47279848]\n",
      " [ 0.84030578  0.20393428  0.44457776  0.52429719]\n",
      " [ 1.13982427  1.18183602  1.35664965  0.99854783]\n",
      " [ 1.45784864  1.34481964  1.35664965  0.99854783]\n",
      " [-0.549632   -0.93695108 -0.01145819  0.05004655]\n",
      " [ 1.70222693  1.34481964  1.35664965  1.47279848]\n",
      " [ 0.73308872  0.52990153  0.44457776  0.52429719]\n",
      " [-0.28883747  0.04095066 -0.01145819  0.05004655]\n",
      " [ 0.08566731 -0.12203296 -0.01145819  0.05004655]\n",
      " [ 0.75556601  0.52990153  0.9006137   0.99854783]\n",
      " [ 1.10495684  3.13763949  2.72475749  2.42129976]\n",
      " [-1.38123699 -1.42590195 -1.83560198 -1.84695602]\n",
      " [-0.81741753  0.52990153 -0.01145819  0.05004655]\n",
      " [-0.82480785 -0.77396745 -0.92353008 -0.89845473]\n",
      " [ 0.73563239  1.50780326  1.35664965  0.99854783]\n",
      " [ 1.26533386  0.85586877 -0.01145819  0.05004655]\n",
      " [-0.18059201 -0.77396745 -0.92353008 -0.89845473]\n",
      " [-0.38764126 -0.28501659  0.44457776  0.52429719]\n",
      " [ 0.30685718 -0.12203296 -0.46749414 -0.42420409]\n",
      " [-0.01780261 -0.44800021  0.44457776  0.52429719]\n",
      " [-1.24486894 -1.0999347  -0.01145819  0.05004655]\n",
      " [-0.54554572 -0.61098383 -0.92353008 -0.89845473]\n",
      " [-1.36362276 -0.77396745 -0.46749414 -0.42420409]\n",
      " [ 0.87810526  0.69288515  0.9006137   0.99854783]\n",
      " [-1.13084142 -1.42590195 -1.37956603 -1.37270538]\n",
      " [ 0.43598809  1.0188524   0.9006137   0.99854783]\n",
      " [-0.26987756 -0.44800021 -0.46749414 -0.42420409]\n",
      " [ 0.60077413  0.04095066  0.44457776  0.52429719]\n",
      " [-0.12824164 -0.28501659  0.44457776  0.52429719]\n",
      " [-1.47375546 -1.58888557 -1.37956603 -1.37270538]\n",
      " [-0.61688335 -0.61098383 -0.92353008 -0.89845473]\n",
      " [-1.5677509  -1.75186919 -1.83560198 -1.84695602]\n",
      " [-0.83339068 -0.93695108 -0.92353008 -0.89845473]\n",
      " [-0.88402339 -0.77396745 -0.92353008 -1.37270538]\n",
      " [-0.31890748 -0.28501659 -0.46749414 -0.42420409]\n",
      " [-0.43107511  0.52990153 -0.01145819  0.05004655]\n",
      " [-0.18146725 -0.44800021 -0.46749414 -0.42420409]\n",
      " [ 0.454948    1.34481964  0.44457776  0.52429719]\n",
      " [-0.07371958 -0.28501659 -0.01145819  0.05004655]\n",
      " [ 1.17224101  0.69288515 -0.01145819 -0.42420409]\n",
      " [ 0.12927621  0.04095066  1.35664965  1.47279848]\n",
      " [-0.86384908 -1.26291832 -1.37956603 -1.37270538]\n",
      " [ 3.94217164  2.32272138  2.26872154  2.42129976]\n",
      " [-0.67189773 -0.28501659 -0.46749414 -0.42420409]\n",
      " [ 1.40985807  1.34481964  0.9006137   0.52429719]\n",
      " [-1.18301673 -0.77396745 -1.37956603 -1.37270538]\n",
      " [ 1.2603231   1.18183602  1.35664965  0.99854783]\n",
      " [-0.49041646 -0.77396745 -0.46749414 -0.42420409]\n",
      " [-0.28383765  0.20393428  1.8126856   1.94704912]\n",
      " [ 1.08884146  0.85586877 -0.01145819  0.05004655]\n",
      " [ 0.51281786  0.3669179  -0.01145819  0.05004655]\n",
      " [-1.57924938 -1.75186919 -1.83560198 -1.84695602]\n",
      " [-1.77419842 -1.42590195 -1.83560198 -1.84695602]\n",
      " [-0.04455764 -0.44800021 -0.01145819  0.05004655]\n",
      " [ 0.69881209  0.69288515  0.44457776  0.52429719]\n",
      " [ 0.1292598  -0.28501659  0.44457776  0.52429719]\n",
      " [ 1.04510128  0.69288515  0.9006137   0.99854783]\n",
      " [ 2.27953058  2.485705    2.72475749  2.42129976]\n",
      " [-0.87043527 -0.44800021 -0.01145819  0.05004655]\n",
      " [ 0.1363219  -0.61098383 -0.46749414 -0.42420409]\n",
      " [-0.76304864 -0.77396745 -0.92353008 -0.89845473]\n",
      " [-0.29560418  0.20393428 -0.01145819  0.05004655]\n",
      " [-0.17804834  0.20393428  1.35664965  1.47279848]\n",
      " [ 0.73023872  1.18183602  1.35664965  1.47279848]\n",
      " [ 1.26251668  1.0188524   0.44457776  0.05004655]\n",
      " [-0.20766431 -0.44800021 -0.01145819  0.05004655]\n",
      " [ 1.77279325  2.81167225  1.8126856   0.52429719]\n",
      " [-0.58092188 -0.28501659 -0.46749414 -0.42420409]\n",
      " [-0.63832129 -0.77396745 -0.92353008 -0.89845473]\n",
      " [ 0.86786493 -0.12203296 -0.46749414 -0.42420409]\n",
      " [ 0.58313255  1.18183602  0.44457776  0.52429719]\n",
      " [ 0.80107856  0.3669179  -0.01145819  0.05004655]\n",
      " [ 0.91792873  0.3669179  -0.01145819  0.05004655]\n",
      " [-0.69232368 -0.44800021  0.44457776  0.52429719]\n",
      " [ 1.28043724  1.18183602  1.35664965  1.47279848]\n",
      " [-0.31473914 -0.12203296 -0.01145819  0.05004655]\n",
      " [ 1.50060964  2.15973776  2.26872154  2.42129976]\n",
      " [-0.6214182  -0.12203296 -0.92353008 -0.89845473]\n",
      " [-0.52377957 -0.61098383 -0.46749414 -0.42420409]\n",
      " [-0.4149105  -0.61098383 -0.46749414 -0.42420409]\n",
      " [ 0.10148183  0.20393428  0.44457776  0.52429719]\n",
      " [-0.06548685  0.3669179   0.44457776  0.52429719]\n",
      " [ 0.82789923  0.69288515 -0.01145819  0.05004655]\n",
      " [ 0.20945925 -0.12203296 -0.01145819  0.05004655]\n",
      " [-0.04055341 -0.28501659  0.9006137   0.52429719]\n",
      " [-0.02351903 -0.61098383 -0.92353008 -0.89845473]\n",
      " [-0.93304784 -0.93695108 -0.92353008 -0.89845473]\n",
      " [ 0.62641323 -0.28501659 -0.01145819  0.05004655]\n",
      " [ 1.99336499  1.34481964  1.35664965  0.99854783]\n",
      " [-0.45080633 -0.28501659 -0.01145819  0.05004655]\n",
      " [-0.2649215   0.20393428 -0.01145819  0.05004655]\n",
      " [-0.25674347 -0.28501659 -0.01145819  0.05004655]\n",
      " [-0.76287906 -0.77396745 -0.46749414 -0.42420409]\n",
      " [-0.25055113 -0.28501659 -0.46749414 -0.42420409]\n",
      " [ 0.21982538  0.20393428  0.9006137   0.99854783]\n",
      " [ 0.31123339  0.69288515  0.44457776  0.52429719]\n",
      " [ 0.82905346 -0.12203296 -0.46749414 -0.89845473]\n",
      " [-0.84168906 -0.61098383 -0.92353008 -0.89845473]\n",
      " [-1.38697529 -1.58888557 -1.37956603 -1.37270538]\n",
      " [-0.81399315 -0.61098383 -0.46749414 -0.42420409]\n",
      " [ 0.70636652  0.52990153 -0.01145819  0.05004655]]\n"
     ]
    }
   ],
   "source": [
    "scaler = StandardScaler()\n",
    "normalized_features = scaler.fit_transform(features)\n",
    "print(normalized_features)"
   ]
  },
  {
   "cell_type": "markdown",
   "id": "9138d09b-2aa3-44f3-935b-e8bab8376ab1",
   "metadata": {},
   "source": [
    "Apply KMeans clustering"
   ]
  },
  {
   "cell_type": "code",
   "execution_count": 8,
   "id": "3e7d28a1-406d-4206-aeca-66ce11e7262b",
   "metadata": {},
   "outputs": [
    {
     "name": "stderr",
     "output_type": "stream",
     "text": [
      "C:\\Users\\sahud\\anaconda3\\anaconda\\Lib\\site-packages\\sklearn\\cluster\\_kmeans.py:870: FutureWarning: The default value of `n_init` will change from 10 to 'auto' in 1.4. Set the value of `n_init` explicitly to suppress the warning\n",
      "  warnings.warn(\n",
      "C:\\Users\\sahud\\anaconda3\\anaconda\\Lib\\site-packages\\sklearn\\cluster\\_kmeans.py:1382: UserWarning: KMeans is known to have a memory leak on Windows with MKL, when there are less chunks than available threads. You can avoid it by setting the environment variable OMP_NUM_THREADS=1.\n",
      "  warnings.warn(\n"
     ]
    },
    {
     "name": "stdout",
     "output_type": "stream",
     "text": [
      "[0 2 0 1 2 0 2 1 3 2 0 4 4 3 3 0 1 4 0 3 1 4 4 4 2 0 0 1 2 0 2 3 3 4 2 2 0\n",
      " 0 4 2 1 2 2 2 1 4 4 0 4 2 4 2 4 1 0 0 4 3 1 3 2 2 3 0 1 2 4 1 0 0 2 0 2 2\n",
      " 1 0 2 3 0 3 4 1 3 1 2 0 1 0 2 4 4 2 1 2 3 4 3 4 1 4 1 1 0 1 4 0 0 4 1 3 0\n",
      " 2 1 4 2 0 0 0 2 2 2 4 3 4 0 4 0 3 2 3 2 2 0 0 0 4 0 4 4 3 1 2 1 3 1 2 4 4\n",
      " 4 3 3 0 4 0 4 1 0 0 2 0 4 1 4 0 1 2 2 0 4 4 4 0 1 0 1 2 2 2 4 4 4 0 4 2 2\n",
      " 0 1 0 0 0 2 0 4 4 0 2 3 2 4]\n"
     ]
    }
   ],
   "source": [
    "kmeans = KMeans(n_clusters=5, random_state=42)  # Change n_clusters if needed\n",
    "clusters = kmeans.fit_predict(normalized_features)\n",
    "print(clusters)"
   ]
  },
  {
   "cell_type": "markdown",
   "id": "003223f8-d691-435b-a213-557fd58fa5fd",
   "metadata": {},
   "source": [
    "Add cluster labels to customer profiles"
   ]
  },
  {
   "cell_type": "code",
   "execution_count": 10,
   "id": "dc5c18b6-31c6-43d5-bbf7-e49e456c06a8",
   "metadata": {},
   "outputs": [],
   "source": [
    "customer_profiles['Cluster'] = clusters"
   ]
  },
  {
   "cell_type": "markdown",
   "id": "d98ebbe7-2cd7-4085-8aab-db3981554ab1",
   "metadata": {},
   "source": [
    "Calculate Davies-Bouldin Index"
   ]
  },
  {
   "cell_type": "code",
   "execution_count": 11,
   "id": "5bf60004-acf6-4e59-9277-e4bfa547d315",
   "metadata": {},
   "outputs": [
    {
     "name": "stdout",
     "output_type": "stream",
     "text": [
      "Davies-Bouldin Index: 0.9173957737455748\n"
     ]
    }
   ],
   "source": [
    "db_index = davies_bouldin_score(normalized_features, clusters)\n",
    "print(f\"Davies-Bouldin Index: {db_index}\")"
   ]
  },
  {
   "cell_type": "markdown",
   "id": "a8d459b2-2252-45e5-baab-4ad0be61057f",
   "metadata": {},
   "source": [
    "Reduce dimensionality for visualization using PCA"
   ]
  },
  {
   "cell_type": "code",
   "execution_count": 13,
   "id": "71fe19cb-91c8-4c44-99d3-35566878a52a",
   "metadata": {},
   "outputs": [
    {
     "name": "stdout",
     "output_type": "stream",
     "text": [
      "[[-7.19684162e-02  9.26513780e-02]\n",
      " [-1.09889076e+00  3.36156943e-01]\n",
      " [-5.43136601e-01 -1.54055859e-01]\n",
      " [ 2.77529363e+00  1.65912151e-01]\n",
      " [-1.77392971e+00 -4.68387393e-02]\n",
      " [-3.15936827e-01 -6.79758673e-01]\n",
      " [-1.54880855e+00 -3.00917185e-01]\n",
      " [ 3.18856704e+00  1.55622563e+00]\n",
      " [-2.40154625e+00  5.53044876e-01]\n",
      " [-9.71611221e-01  3.20880861e-01]\n",
      " [ 1.08718747e-01 -9.36153428e-02]\n",
      " [ 1.70172325e+00 -2.99811022e-01]\n",
      " [ 2.05891482e+00 -3.32961943e-01]\n",
      " [-3.57915237e+00 -2.87393521e-02]\n",
      " [-2.72279805e+00 -1.19371946e-02]\n",
      " [-1.01365164e-01 -4.14536765e-02]\n",
      " [ 2.45307660e+00  4.78686760e-01]\n",
      " [ 7.96502098e-01 -6.95836841e-01]\n",
      " [ 1.21662461e-02  1.01950328e+00]\n",
      " [-3.33883588e+00 -3.06007733e-01]\n",
      " [ 2.29666415e+00  3.59455142e-01]\n",
      " [ 9.87603526e-01 -1.11197437e-01]\n",
      " [ 1.03654686e+00 -2.75375011e-01]\n",
      " [ 1.10847917e+00  7.59583220e-01]\n",
      " [-1.33539276e+00  5.18119905e-01]\n",
      " [-4.93181705e-01 -4.09261252e-01]\n",
      " [-7.50776098e-01 -1.61406187e-02]\n",
      " [ 2.76283500e+00 -9.28492951e-01]\n",
      " [-1.11897095e+00  3.66801783e-01]\n",
      " [-1.99607721e-01  3.76928659e-01]\n",
      " [-1.06162994e+00  2.79292367e-01]\n",
      " [-2.29472307e+00  5.68987702e-01]\n",
      " [-3.62774503e+00  4.54190076e-02]\n",
      " [ 7.39589522e-01  4.46270446e-01]\n",
      " [-9.09538201e-01  4.71817243e-02]\n",
      " [-1.73215037e+00 -2.11150860e-02]\n",
      " [ 3.27881412e-01 -3.38600399e-01]\n",
      " [-1.61163565e-01  3.18258162e-01]\n",
      " [ 1.12688300e+00 -5.53028546e-02]\n",
      " [-1.25944826e+00 -1.16499965e+00]\n",
      " [ 2.51091066e+00 -5.75342777e-01]\n",
      " [-1.76033766e+00 -1.57065927e-01]\n",
      " [-2.09239621e+00  3.49696153e-01]\n",
      " [-1.46154123e+00 -5.23581873e-01]\n",
      " [ 2.47747937e+00 -5.24322528e-01]\n",
      " [ 2.04415249e+00 -2.20948767e-01]\n",
      " [ 8.28266131e-01  1.09773864e+00]\n",
      " [ 5.77077946e-02 -1.05250423e-01]\n",
      " [ 1.48571371e+00  1.59706496e+00]\n",
      " [-1.42106800e+00 -4.95864929e-01]\n",
      " [ 1.81508291e+00 -1.39812638e-01]\n",
      " [-1.17439212e+00 -1.50069995e-01]\n",
      " [ 1.40818336e+00 -4.84601700e-01]\n",
      " [ 3.55941324e+00 -9.41266492e-01]\n",
      " [-2.01754341e-01  2.90720615e-01]\n",
      " [-1.16789020e-01  1.61053116e-01]\n",
      " [ 1.03920745e+00 -1.00467311e-01]\n",
      " [-3.64146382e+00 -2.31284871e-02]\n",
      " [ 3.05897238e+00 -4.45984507e-01]\n",
      " [-3.64087931e+00  6.54635315e-02]\n",
      " [-1.82936055e+00 -5.17285258e-02]\n",
      " [-2.03326723e+00 -1.63025102e-01]\n",
      " [-2.58254556e+00 -1.36495645e-01]\n",
      " [ 1.89637726e-01 -2.17107629e-01]\n",
      " [ 4.65288085e+00 -5.21084856e-02]\n",
      " [-1.14765459e+00 -8.23643278e-01]\n",
      " [ 7.57610564e-01  1.50315980e-01]\n",
      " [ 2.84825900e+00 -3.49260119e-02]\n",
      " [-3.61472519e-01  3.55502046e-01]\n",
      " [-6.03825225e-01 -2.40405672e-01]\n",
      " [-1.93939083e+00  2.05675220e-01]\n",
      " [-8.20809816e-02  1.97568441e-01]\n",
      " [-1.51924985e+00 -1.67059298e-01]\n",
      " [-1.42462324e+00 -4.90439194e-01]\n",
      " [ 3.78940632e+00  2.10407825e-01]\n",
      " [-4.21400268e-01  5.36443189e-01]\n",
      " [-2.08659770e+00  4.30330958e-01]\n",
      " [-3.40234112e+00 -2.98575001e-01]\n",
      " [-3.09670093e-01 -6.89322478e-01]\n",
      " [-3.31660321e+00 -3.39937515e-01]\n",
      " [ 6.14366442e-01  3.68924076e-01]\n",
      " [ 2.88266463e+00 -1.14268493e+00]\n",
      " [-2.38521523e+00  6.17605791e-01]\n",
      " [ 2.52197660e+00  8.27337340e-01]\n",
      " [-1.62657655e+00 -2.71717726e-01]\n",
      " [-1.46057052e-01  2.95203770e-01]\n",
      " [ 2.54702011e+00 -7.19934284e-01]\n",
      " [-5.55642021e-01  6.51828519e-01]\n",
      " [-2.10960560e+00 -6.79291929e-01]\n",
      " [ 1.40720705e+00  4.82655938e-01]\n",
      " [ 7.65401520e-01  7.38790429e-02]\n",
      " [-1.03648216e+00 -3.60537495e-01]\n",
      " [ 2.66242889e+00  5.23505885e-01]\n",
      " [-1.36324496e+00  6.50109833e-01]\n",
      " [-2.60707438e+00 -9.90616594e-02]\n",
      " [ 9.68552519e-01 -1.13737498e+00]\n",
      " [-3.70906827e+00  8.00442013e-02]\n",
      " [ 1.45799465e+00  1.37091551e+00]\n",
      " [ 2.96556956e+00 -3.03440356e-01]\n",
      " [ 9.96005082e-01 -2.13503291e-01]\n",
      " [ 2.33987620e+00 -3.94908692e-02]\n",
      " [ 2.57434652e+00 -3.07837284e-01]\n",
      " [-7.17987470e-01  6.31135437e-01]\n",
      " [ 2.92988131e+00 -2.48975701e-01]\n",
      " [ 1.11001189e+00 -2.08523560e-01]\n",
      " [-9.78301028e-02  2.21603532e-01]\n",
      " [-1.59500013e-03 -1.47470851e-02]\n",
      " [ 1.59277449e+00  1.99457274e-01]\n",
      " [ 4.73055154e+00  8.20061248e-01]\n",
      " [-3.25103170e+00 -3.50523631e-01]\n",
      " [-1.02434743e-01  4.97082923e-01]\n",
      " [-1.71084765e+00 -5.36256453e-02]\n",
      " [ 2.31206777e+00  1.81916299e-01]\n",
      " [ 1.05735394e+00 -1.09392874e+00]\n",
      " [-1.40321343e+00 -5.23113203e-01]\n",
      " [ 1.61810326e-01  7.91128064e-01]\n",
      " [-3.67998526e-01 -6.00306135e-01]\n",
      " [ 2.55817198e-01  5.58178000e-01]\n",
      " [-1.13258918e+00  1.17438444e+00]\n",
      " [-1.49488758e+00 -2.93723155e-01]\n",
      " [-1.49612052e+00  7.63410181e-01]\n",
      " [ 1.73389424e+00  7.35752788e-02]\n",
      " [-2.65943063e+00 -1.08643650e-01]\n",
      " [ 1.68797523e+00  3.22621406e-01]\n",
      " [-8.08614781e-01 -1.06839791e-01]\n",
      " [ 7.99017618e-01 -2.36031118e-03]\n",
      " [ 2.85682167e-01  6.02084444e-01]\n",
      " [-2.90578659e+00  1.77841703e-01]\n",
      " [-1.52895364e+00 -2.41734166e-01]\n",
      " [-3.50530469e+00 -1.41439967e-01]\n",
      " [-1.79754947e+00 -1.07920836e-02]\n",
      " [-1.97796114e+00 -2.47428973e-01]\n",
      " [-7.49424944e-01 -1.07686693e-01]\n",
      " [ 8.20564549e-02  2.15526729e-01]\n",
      " [-7.66395956e-01 -1.71270896e-01]\n",
      " [ 1.39020673e+00 -1.88715006e-01]\n",
      " [-1.60310715e-01  1.37988512e-01]\n",
      " [ 6.91459685e-01 -1.22646456e+00]\n",
      " [ 1.51791978e+00  1.18997835e+00]\n",
      " [-2.44932978e+00 -3.39799261e-01]\n",
      " [ 5.43920581e+00 -1.25213681e+00]\n",
      " [-9.17989390e-01  1.49563323e-01]\n",
      " [ 2.07940049e+00 -6.97224709e-01]\n",
      " [-2.35393312e+00 -2.16934123e-01]\n",
      " [ 2.39741835e+00 -1.27307252e-01]\n",
      " [-1.07913583e+00  1.27040401e-01]\n",
      " [ 1.87527653e+00  1.87882794e+00]\n",
      " [ 9.73073021e-01 -9.65305725e-01]\n",
      " [ 4.50193121e-01 -4.35779019e-01]\n",
      " [-3.51079559e+00 -1.33060176e-01]\n",
      " [-3.43868369e+00 -6.41436759e-02]\n",
      " [-2.28988164e-01  1.53314672e-01]\n",
      " [ 1.17624690e+00 -2.20122268e-01]\n",
      " [ 4.08647564e-01  4.14424168e-01]\n",
      " [ 1.81364033e+00 -4.81270331e-02]\n",
      " [ 4.96103615e+00  1.10377278e-01]\n",
      " [-6.23371863e-01  7.55192563e-01]\n",
      " [-6.97244431e-01 -3.66288652e-01]\n",
      " [-1.68135560e+00 -9.86341327e-02]\n",
      " [-1.84581938e-02  1.89956313e-01]\n",
      " [ 1.45376545e+00  1.37736978e+00]\n",
      " [ 2.38312177e+00  4.95962358e-01]\n",
      " [ 1.37180471e+00 -9.41050633e-01]\n",
      " [-3.06876959e-01  2.72182526e-01]\n",
      " [ 3.46252873e+00 -9.16122617e-01]\n",
      " [-8.74545430e-01  8.32625122e-02]\n",
      " [-1.62179420e+00 -1.89532142e-01]\n",
      " [-1.00098896e-01 -1.00915383e+00]\n",
      " [ 1.36881583e+00 -2.45553916e-01]\n",
      " [ 5.87847076e-01 -6.45855834e-01]\n",
      " [ 6.43646873e-01 -7.31013168e-01]\n",
      " [-6.62887709e-02  1.04975121e+00]\n",
      " [ 2.64585964e+00  9.49921488e-02]\n",
      " [-1.92802236e-01  2.77058606e-01]\n",
      " [ 4.19067651e+00  5.63787967e-01]\n",
      " [-1.28330947e+00 -3.48165145e-01]\n",
      " [-1.01246457e+00  1.14775934e-01]\n",
      " [-9.60476011e-01  3.54350203e-02]\n",
      " [ 6.43192376e-01  3.24932167e-01]\n",
      " [ 6.46062582e-01  4.10035928e-01]\n",
      " [ 7.65861298e-01 -7.38559271e-01]\n",
      " [ 5.75197142e-02 -1.04963389e-01]\n",
      " [ 5.60749008e-01  7.25583204e-01]\n",
      " [-1.24560268e+00 -6.74162477e-01]\n",
      " [-1.84513904e+00  6.18354295e-02]\n",
      " [ 1.74025704e-01 -3.72249866e-01]\n",
      " [ 2.83007317e+00 -6.98107512e-01]\n",
      " [-3.40382024e-01  4.12799412e-01]\n",
      " [-3.80620830e-03  1.67595587e-01]\n",
      " [-2.47710632e-01  2.71371503e-01]\n",
      " [-1.20924567e+00  3.25603974e-01]\n",
      " [-7.16782546e-01 -1.57502996e-01]\n",
      " [ 1.17173427e+00  6.63048187e-01]\n",
      " [ 9.91165341e-01  6.23348928e-02]\n",
      " [-3.57468778e-01 -1.21782710e+00]\n",
      " [-1.63630575e+00 -7.79016775e-02]\n",
      " [-2.86434621e+00  1.14598599e-01]\n",
      " [-1.15105109e+00  3.26275959e-01]\n",
      " [ 6.25222199e-01 -6.13410807e-01]]\n"
     ]
    }
   ],
   "source": [
    "pca = PCA(n_components=2)\n",
    "pca_features = pca.fit_transform(normalized_features)\n",
    "print(pca_features)"
   ]
  },
  {
   "cell_type": "markdown",
   "id": "f4509505-c6b2-4442-a899-d1802969e546",
   "metadata": {},
   "source": [
    "Create a DataFrame for visualization"
   ]
  },
  {
   "cell_type": "code",
   "execution_count": 14,
   "id": "e32bcc8f-a57f-4cdb-9680-2a068e0ca80a",
   "metadata": {},
   "outputs": [
    {
     "name": "stdout",
     "output_type": "stream",
     "text": [
      "         PCA1      PCA2  Cluster\n",
      "0   -0.071968  0.092651        0\n",
      "1   -1.098891  0.336157        2\n",
      "2   -0.543137 -0.154056        0\n",
      "3    2.775294  0.165912        1\n",
      "4   -1.773930 -0.046839        2\n",
      "..        ...       ...      ...\n",
      "194 -0.357469 -1.217827        0\n",
      "195 -1.636306 -0.077902        2\n",
      "196 -2.864346  0.114599        3\n",
      "197 -1.151051  0.326276        2\n",
      "198  0.625222 -0.613411        4\n",
      "\n",
      "[199 rows x 3 columns]\n"
     ]
    }
   ],
   "source": [
    "viz_data = pd.DataFrame(pca_features, columns=['PCA1', 'PCA2'])\n",
    "viz_data['Cluster'] = customer_profiles['Cluster']\n",
    "print(viz_data)"
   ]
  },
  {
   "cell_type": "markdown",
   "id": "df2ec275-7346-430a-8f32-4099b9e1c0ad",
   "metadata": {},
   "source": [
    "Set plot style"
   ]
  },
  {
   "cell_type": "code",
   "execution_count": 16,
   "id": "f3669e44-ece2-4218-935e-c70445616472",
   "metadata": {},
   "outputs": [
    {
     "name": "stdout",
     "output_type": "stream",
     "text": [
      "None\n"
     ]
    }
   ],
   "source": [
    "sns=sn.set(style=\"whitegrid\")\n",
    "print(sns)"
   ]
  },
  {
   "cell_type": "markdown",
   "id": "73fe7fa2-25ac-463d-923e-442b447ae97e",
   "metadata": {},
   "source": [
    "Plot the clusters"
   ]
  },
  {
   "cell_type": "code",
   "execution_count": 19,
   "id": "aaa93cf9-1ecf-4965-910d-bd48bc419aa1",
   "metadata": {},
   "outputs": [
    {
     "data": {
      "text/plain": [
       "<Axes: xlabel='PCA1', ylabel='PCA2'>"
      ]
     },
     "execution_count": 19,
     "metadata": {},
     "output_type": "execute_result"
    },
    {
     "data": {
      "image/png": "[encoded data removed]",
      "text/plain": [
       "<Figure size 1000x600 with 1 Axes>"
      ]
     },
     "metadata": {},
     "output_type": "display_data"
    }
   ],
   "source": [
    "pt.figure(figsize=(10, 6))\n",
    "sn.scatterplot(\n",
    "    x='PCA1', \n",
    "    y='PCA2', \n",
    "    hue='Cluster', \n",
    "    # palette='tab10', \n",
    "    data=viz_data, \n",
    "    s=100, \n",
    "    alpha=0.8\n",
    ")"
   ]
  },
  {
   "cell_type": "markdown",
   "id": "e5b160cf-d4f0-4878-bbd8-ddfd61bf34d9",
   "metadata": {},
   "source": [
    "Add titles and labels"
   ]
  },
  {
   "cell_type": "code",
   "execution_count": 24,
   "id": "d0b5eb45-729b-43af-9f70-353506aa6d23",
   "metadata": {},
   "outputs": [
    {
     "name": "stderr",
     "output_type": "stream",
     "text": [
      "No artists with labels found to put in legend.  Note that artists whose label start with an underscore are ignored when legend() is called with no argument.\n"
     ]
    },
    {
     "data": {
      "image/png": "[encoded data removed]",
      "text/plain": [
       "<Figure size 640x480 with 1 Axes>"
      ]
     },
     "metadata": {},
     "output_type": "display_data"
    }
   ],
   "source": [
    "pt.title('Customer Segmentation & (PCA Visualization)', fontsize=16)\n",
    "pt.xlabel('Principal Component 1', fontsize=12)\n",
    "pt.ylabel('Principal Component 2', fontsize=12)\n",
    "pt.legend(title='Cluster', loc='best', fontsize=10)\n",
    "pt.show()"
   ]
  },
  {
   "cell_type": "code",
   "execution_count": null,
   "id": "03859a02-3e35-475d-91c6-25b25e211bdc",
   "metadata": {},
   "outputs": [],
   "source": []
  }
 ],
 "metadata": {
  "kernelspec": {
   "display_name": "Python 3 (ipykernel)",
   "language": "python",
   "name": "python3"
  },
  "language_info": {
   "codemirror_mode": {
    "name": "ipython",
    "version": 3
   },
   "file_extension": ".py",
   "mimetype": "text/x-python",
   "name": "python",
   "nbconvert_exporter": "python",
   "pygments_lexer": "ipython3",
   "version": "3.11.7"
  },
  "widgets": {
   "application/vnd.jupyter.widget-state+json": {
    "state": {},
    "version_major": 2,
    "version_minor": 0
   }
  }
 },
 "nbformat": 4,
 "nbformat_minor": 5
}
